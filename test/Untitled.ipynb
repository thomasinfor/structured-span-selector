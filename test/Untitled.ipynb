{
 "cells": [
  {
   "cell_type": "code",
   "execution_count": 1,
   "id": "integrated-barcelona",
   "metadata": {},
   "outputs": [],
   "source": [
    "import json\n",
    "from transformers import AutoTokenizer\n",
    "tokenizer = AutoTokenizer.from_pretrained(\"bert-base-cased\")"
   ]
  },
  {
   "cell_type": "code",
   "execution_count": 3,
   "id": "practical-cattle",
   "metadata": {},
   "outputs": [],
   "source": [
    "with open('../data_dir/train.json', 'r') as f:\n",
    "    x = json.load(f)"
   ]
  },
  {
   "cell_type": "code",
   "execution_count": 12,
   "id": "brilliant-victoria",
   "metadata": {},
   "outputs": [],
   "source": [
    "length = []\n",
    "qas = 0\n",
    "len_q = []\n",
    "for dat in x['data']:\n",
    "    for para in dat['paragraphs']:\n",
    "        tokens = tokenizer.tokenize(\n",
    "            para['context'],\n",
    "            max_length=1000,\n",
    "            truncation=True\n",
    "        )\n",
    "        length.append(len(tokens))\n",
    "        qas += len(para['qas'])\n",
    "        len_q += [len(tokenizer.tokenize(\n",
    "            i['question'],\n",
    "            max_length=1000,\n",
    "            truncation=True\n",
    "        )) for i in para['qas']]"
   ]
  },
  {
   "cell_type": "code",
   "execution_count": 13,
   "id": "future-affairs",
   "metadata": {},
   "outputs": [
    {
     "data": {
      "text/plain": [
       "(865, 87599, 61)"
      ]
     },
     "execution_count": 13,
     "metadata": {},
     "output_type": "execute_result"
    }
   ],
   "source": [
    "max(length), qas, max(len_q)"
   ]
  },
  {
   "cell_type": "code",
   "execution_count": 30,
   "id": "sustainable-religious",
   "metadata": {},
   "outputs": [
    {
     "data": {
      "text/plain": [
       "['[CLS]', 'Denver', 'Broncos', '[SEP]']"
      ]
     },
     "execution_count": 30,
     "metadata": {},
     "output_type": "execute_result"
    }
   ],
   "source": [
    "tokenizer.tokenize(\"[CLS]Denver Broncos[SEP]\")"
   ]
  },
  {
   "cell_type": "code",
   "execution_count": 33,
   "id": "orange-animal",
   "metadata": {},
   "outputs": [
    {
     "data": {
      "text/plain": [
       "{'input_ids': [101, 7068, 14722, 102], 'token_type_ids': [0, 0, 0, 0], 'attention_mask': [1, 1, 1, 1], 'offset_mapping': [(0, 0), (0, 6), (7, 14), (0, 0)]}"
      ]
     },
     "execution_count": 33,
     "metadata": {},
     "output_type": "execute_result"
    }
   ],
   "source": [
    "tokenizer(\n",
    "    \"Denver Broncos\",\n",
    "    max_length=1000,\n",
    "    truncation=True,\n",
    "    return_offsets_mapping=True\n",
    ")"
   ]
  }
 ],
 "metadata": {
  "kernelspec": {
   "display_name": "Python 3",
   "language": "python",
   "name": "python3"
  },
  "language_info": {
   "codemirror_mode": {
    "name": "ipython",
    "version": 3
   },
   "file_extension": ".py",
   "mimetype": "text/x-python",
   "name": "python",
   "nbconvert_exporter": "python",
   "pygments_lexer": "ipython3",
   "version": "3.9.0"
  }
 },
 "nbformat": 4,
 "nbformat_minor": 5
}

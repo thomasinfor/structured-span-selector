{
 "cells": [
  {
   "cell_type": "code",
   "execution_count": 1,
   "id": "superior-shipping",
   "metadata": {},
   "outputs": [
    {
     "data": {
      "application/vnd.jupyter.widget-view+json": {
       "model_id": "4338919f74db4951b5db78c3578a9785",
       "version_major": 2,
       "version_minor": 0
      },
      "text/plain": [
       "Downloading:   0%|          | 0.00/570 [00:00<?, ?B/s]"
      ]
     },
     "metadata": {},
     "output_type": "display_data"
    },
    {
     "data": {
      "application/vnd.jupyter.widget-view+json": {
       "model_id": "46f4de832238415ba1dc00b835f07638",
       "version_major": 2,
       "version_minor": 0
      },
      "text/plain": [
       "Downloading:   0%|          | 0.00/232k [00:00<?, ?B/s]"
      ]
     },
     "metadata": {},
     "output_type": "display_data"
    },
    {
     "data": {
      "application/vnd.jupyter.widget-view+json": {
       "model_id": "9358614a90cd48d2a55003f9d3c4ca72",
       "version_major": 2,
       "version_minor": 0
      },
      "text/plain": [
       "Downloading:   0%|          | 0.00/466k [00:00<?, ?B/s]"
      ]
     },
     "metadata": {},
     "output_type": "display_data"
    }
   ],
   "source": [
    "import json\n",
    "from transformers import AutoTokenizer\n",
    "tokenizer = AutoTokenizer.from_pretrained(\"bert-base-uncased\")"
   ]
  },
  {
   "cell_type": "code",
   "execution_count": 3,
   "id": "empirical-female",
   "metadata": {},
   "outputs": [],
   "source": [
    "with open('../data_dir/train.json', 'r') as f:\n",
    "    x = json.load(f)"
   ]
  },
  {
   "cell_type": "code",
   "execution_count": 12,
   "id": "agreed-fruit",
   "metadata": {},
   "outputs": [],
   "source": [
    "length = []\n",
    "qas = 0\n",
    "len_q = []\n",
    "for dat in x['data']:\n",
    "    for para in dat['paragraphs']:\n",
    "        tokens = tokenizer.tokenize(\n",
    "            para['context'],\n",
    "            max_length=1000,\n",
    "            truncation=True\n",
    "        )\n",
    "        length.append(len(tokens))\n",
    "        qas += len(para['qas'])\n",
    "        len_q += [len(tokenizer.tokenize(\n",
    "            i['question'],\n",
    "            max_length=1000,\n",
    "            truncation=True\n",
    "        )) for i in para['qas']]"
   ]
  },
  {
   "cell_type": "code",
   "execution_count": 13,
   "id": "subject-proposal",
   "metadata": {},
   "outputs": [
    {
     "data": {
      "text/plain": [
       "(865, 87599, 61)"
      ]
     },
     "execution_count": 13,
     "metadata": {},
     "output_type": "execute_result"
    }
   ],
   "source": [
    "max(length), qas, max(len_q)"
   ]
  },
  {
   "cell_type": "code",
   "execution_count": 22,
   "id": "extensive-absorption",
   "metadata": {},
   "outputs": [],
   "source": [
    "import numpy as np"
   ]
  },
  {
   "cell_type": "code",
   "execution_count": 40,
   "id": "constitutional-anger",
   "metadata": {},
   "outputs": [
    {
     "data": {
      "text/plain": [
       "torch.float32"
      ]
     },
     "execution_count": 40,
     "metadata": {},
     "output_type": "execute_result"
    }
   ],
   "source": [
    "torch.ones(100).unsqueeze(0).dtype"
   ]
  }
 ],
 "metadata": {
  "kernelspec": {
   "display_name": "Python 3",
   "language": "python",
   "name": "python3"
  },
  "language_info": {
   "codemirror_mode": {
    "name": "ipython",
    "version": 3
   },
   "file_extension": ".py",
   "mimetype": "text/x-python",
   "name": "python",
   "nbconvert_exporter": "python",
   "pygments_lexer": "ipython3",
   "version": "3.9.0"
  }
 },
 "nbformat": 4,
 "nbformat_minor": 5
}
